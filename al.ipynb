{
 "cells": [
  {
   "cell_type": "code",
   "execution_count": null,
   "id": "2a0af8ca",
   "metadata": {},
   "outputs": [
    {
     "data": {
      "text/plain": [
       "'https://wiki.biligame.com/blhx/blhx/%E5%BD%B1%E7%94%BB%E7%9B%B8%E5%85%B3'"
      ]
     },
     "execution_count": 57,
     "metadata": {},
     "output_type": "execute_result"
    }
   ],
   "source": [
    "import requests as r\n",
    "import os\n",
    "from bs4 import BeautifulSoup as bs\n",
    "import lxml\n",
    "from urllib.parse import urlparse,parse_qs,urlencode,urlunparse\n",
    "\n",
    "headers = {\n",
    "    \"User-Agent\": (\n",
    "        \"Mozilla/5.0 (Windows NT 10.0; Win64; x64) \"\n",
    "        \"AppleWebKit/537.36 (KHTML, like Gecko) \"\n",
    "        \"Chrome/117.0.0.0 Safari/537.36\"\n",
    "    ),\n",
    "    \"Accept\": \"text/html,application/xhtml+xml,application/xml;q=0.9,image/webp,image/apng,*/*;q=0.8\",\n",
    "    \"Accept-Language\": \"zh-CN,zh;q=0.9,en;q=0.8\",\n",
    "    \"Accept-Encoding\": \"gzip, deflate, br\",\n",
    "    \"Connection\": \"keep-alive\",\n",
    "    \"Upgrade-Insecure-Requests\": \"1\",\n",
    "    \"Sec-Fetch-Dest\": \"document\",\n",
    "    \"Sec-Fetch-Mode\": \"navigate\",\n",
    "    \"Sec-Fetch-Site\": \"none\",\n",
    "    \"Sec-Fetch-User\": \"?1\",\n",
    "    \"Cache-Control\": \"max-age=0\",\n",
    "    # 如果目标站点需要，可以加上 Cookie 或 Referer\n",
    "    # \"Referer\": \"https://example.com/\",\n",
    "    # \"Cookie\": \"name=value; name2=value2\"\n",
    "}\n",
    "\n",
    "def fetch_url(url,file):\n",
    "    respond=r.get(url,headers=headers)\n",
    "    if respond.status_code==200:\n",
    "        with open(file, \"w\") as f:\n",
    "            f.write(respond.text)\n",
    "        print(f\"File saved in {file}.\")\n",
    "    else:\n",
    "        raise Exception(f\"Failed to download file. Status code: {respond.status_code}\")\n",
    "\n",
    "url=\"https://wiki.biligame.com/blhx/首页\"\n",
    "file=\"index.html\"\n",
    "\n",
    "if not os.path.exists(file):\n",
    "    fetch_url(url,file)\n",
    "\n",
    "soup=bs(open(\"html/index.html\"),\"lxml\")\n",
    "\n",
    "a_list=soup.find_all(\"a\",class_=\"menu-title-1\")\n",
    "\n",
    "bg=[_ for _ in a_list if \"壁纸和插画\" in _.text][0]\n",
    "\n",
    "bg_url=url+bg.get(\"href\")\n",
    "bg_url"
   ]
  }
 ],
 "metadata": {
  "kernelspec": {
   "display_name": "torch",
   "language": "python",
   "name": "python3"
  },
  "language_info": {
   "codemirror_mode": {
    "name": "ipython",
    "version": 3
   },
   "file_extension": ".py",
   "mimetype": "text/x-python",
   "name": "python",
   "nbconvert_exporter": "python",
   "pygments_lexer": "ipython3",
   "version": "3.12.9"
  }
 },
 "nbformat": 4,
 "nbformat_minor": 5
}
